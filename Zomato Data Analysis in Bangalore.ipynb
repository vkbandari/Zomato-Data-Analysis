{
 "cells": [
  {
   "cell_type": "markdown",
   "metadata": {},
   "source": [
    "## ZOMATO DATA ANALYSIS"
   ]
  },
  {
   "cell_type": "code",
   "execution_count": 1,
   "metadata": {},
   "outputs": [],
   "source": [
    "import numpy as np\n",
    "import pandas as pd\n",
    "import matplotlib.pyplot as plt"
   ]
  },
  {
   "cell_type": "code",
   "execution_count": 244,
   "metadata": {
    "scrolled": true
   },
   "outputs": [],
   "source": [
    "df = pd.read_excel(\"zomato_train.xlsx\")"
   ]
  },
  {
   "cell_type": "code",
   "execution_count": 245,
   "metadata": {},
   "outputs": [
    {
     "data": {
      "text/html": [
       "<div>\n",
       "<style scoped>\n",
       "    .dataframe tbody tr th:only-of-type {\n",
       "        vertical-align: middle;\n",
       "    }\n",
       "\n",
       "    .dataframe tbody tr th {\n",
       "        vertical-align: top;\n",
       "    }\n",
       "\n",
       "    .dataframe thead th {\n",
       "        text-align: right;\n",
       "    }\n",
       "</style>\n",
       "<table border=\"1\" class=\"dataframe\">\n",
       "  <thead>\n",
       "    <tr style=\"text-align: right;\">\n",
       "      <th></th>\n",
       "      <th>url</th>\n",
       "      <th>address</th>\n",
       "      <th>name</th>\n",
       "      <th>online_order</th>\n",
       "      <th>book_table</th>\n",
       "      <th>votes</th>\n",
       "      <th>phone</th>\n",
       "      <th>location</th>\n",
       "      <th>rest_type</th>\n",
       "      <th>dish_liked</th>\n",
       "      <th>cuisines</th>\n",
       "      <th>approx_cost(for two people)</th>\n",
       "      <th>reviews_list</th>\n",
       "      <th>menu_item</th>\n",
       "      <th>listed_in(type)</th>\n",
       "      <th>listed_in(city)</th>\n",
       "      <th>rates</th>\n",
       "    </tr>\n",
       "  </thead>\n",
       "  <tbody>\n",
       "    <tr>\n",
       "      <th>0</th>\n",
       "      <td>https://www.zomato.com/bangalore/al-swaad-take...</td>\n",
       "      <td>18, Masjid Street, Opp Akbari Masjid Neelasand...</td>\n",
       "      <td>Al Swaad Take Away</td>\n",
       "      <td>Yes</td>\n",
       "      <td>No</td>\n",
       "      <td>13</td>\n",
       "      <td>+91 7019942388\\n+91 9902335220</td>\n",
       "      <td>Richmond Road</td>\n",
       "      <td>Quick Bites</td>\n",
       "      <td>NaN</td>\n",
       "      <td>North Indian, South Indian, Arabian</td>\n",
       "      <td>350</td>\n",
       "      <td>[('Rated 1.0', 'RATED\\n  If U need reasonable ...</td>\n",
       "      <td>['Beef Seekh Kabab', 'Beef BBQ Chops', 'Beef M...</td>\n",
       "      <td>Delivery</td>\n",
       "      <td>Residency Road</td>\n",
       "      <td>3.1</td>\n",
       "    </tr>\n",
       "    <tr>\n",
       "      <th>1</th>\n",
       "      <td>https://www.zomato.com/bangalore/the-boozy-gri...</td>\n",
       "      <td>2nd Floor, 1st A Cross Road, Jyothi Nivas Coll...</td>\n",
       "      <td>The Boozy Griffin</td>\n",
       "      <td>No</td>\n",
       "      <td>Yes</td>\n",
       "      <td>5015</td>\n",
       "      <td>080 33512954</td>\n",
       "      <td>Koramangala 5th Block</td>\n",
       "      <td>Casual Dining, Pub</td>\n",
       "      <td>Cocktails, Craft Beer, Salads, Devils Chicken,...</td>\n",
       "      <td>European, Continental</td>\n",
       "      <td>1,800</td>\n",
       "      <td>[('Rated 5.0', 'RATED\\n  Really great ambience...</td>\n",
       "      <td>[]</td>\n",
       "      <td>Dine-out</td>\n",
       "      <td>Koramangala 6th Block</td>\n",
       "      <td>4.6</td>\n",
       "    </tr>\n",
       "    <tr>\n",
       "      <th>2</th>\n",
       "      <td>https://www.zomato.com/bangalore/barkat-btm-ba...</td>\n",
       "      <td>28th, 8th Cross, Maruthi Nagar, Madiwala, BTM,...</td>\n",
       "      <td>Barkat</td>\n",
       "      <td>No</td>\n",
       "      <td>No</td>\n",
       "      <td>6</td>\n",
       "      <td>+91 9019670836</td>\n",
       "      <td>BTM</td>\n",
       "      <td>Quick Bites</td>\n",
       "      <td>NaN</td>\n",
       "      <td>Kerala</td>\n",
       "      <td>250</td>\n",
       "      <td>[]</td>\n",
       "      <td>[]</td>\n",
       "      <td>Dine-out</td>\n",
       "      <td>Koramangala 4th Block</td>\n",
       "      <td>3.4</td>\n",
       "    </tr>\n",
       "    <tr>\n",
       "      <th>3</th>\n",
       "      <td>https://www.zomato.com/bangalore/sriracha-lave...</td>\n",
       "      <td>204, 2nd Level, 4th Floor, Comet Block, UB Cit...</td>\n",
       "      <td>Sriracha</td>\n",
       "      <td>No</td>\n",
       "      <td>No</td>\n",
       "      <td>699</td>\n",
       "      <td>+91 8041755366\\n+91 7022422473</td>\n",
       "      <td>Lavelle Road</td>\n",
       "      <td>Casual Dining</td>\n",
       "      <td>Noodles, Laksa, Cocktails, Dumplings, Sangria,...</td>\n",
       "      <td>Thai, Chinese, Indonesian, Asian, Momos</td>\n",
       "      <td>1,500</td>\n",
       "      <td>[('Rated 3.0', 'RATED\\n  Another restaurant in...</td>\n",
       "      <td>[]</td>\n",
       "      <td>Dine-out</td>\n",
       "      <td>Residency Road</td>\n",
       "      <td>4.3</td>\n",
       "    </tr>\n",
       "    <tr>\n",
       "      <th>4</th>\n",
       "      <td>https://www.zomato.com/bangalore/sri-ganesh-ju...</td>\n",
       "      <td>513, Opposite Ganesh Temple, Koramangala 8th B...</td>\n",
       "      <td>Sri Ganesh Juice Junction</td>\n",
       "      <td>Yes</td>\n",
       "      <td>No</td>\n",
       "      <td>129</td>\n",
       "      <td>+91 9845623889</td>\n",
       "      <td>Koramangala 8th Block</td>\n",
       "      <td>Beverage Shop</td>\n",
       "      <td>NaN</td>\n",
       "      <td>Juices, Fast Food</td>\n",
       "      <td>150</td>\n",
       "      <td>[('Rated 4.0', 'RATED\\n  Good cafe with most v...</td>\n",
       "      <td>['Dry Fruit Milkshake', 'Wheat Grass with Wate...</td>\n",
       "      <td>Delivery</td>\n",
       "      <td>Koramangala 6th Block</td>\n",
       "      <td>3.7</td>\n",
       "    </tr>\n",
       "  </tbody>\n",
       "</table>\n",
       "</div>"
      ],
      "text/plain": [
       "                                                 url  \\\n",
       "0  https://www.zomato.com/bangalore/al-swaad-take...   \n",
       "1  https://www.zomato.com/bangalore/the-boozy-gri...   \n",
       "2  https://www.zomato.com/bangalore/barkat-btm-ba...   \n",
       "3  https://www.zomato.com/bangalore/sriracha-lave...   \n",
       "4  https://www.zomato.com/bangalore/sri-ganesh-ju...   \n",
       "\n",
       "                                             address  \\\n",
       "0  18, Masjid Street, Opp Akbari Masjid Neelasand...   \n",
       "1  2nd Floor, 1st A Cross Road, Jyothi Nivas Coll...   \n",
       "2  28th, 8th Cross, Maruthi Nagar, Madiwala, BTM,...   \n",
       "3  204, 2nd Level, 4th Floor, Comet Block, UB Cit...   \n",
       "4  513, Opposite Ganesh Temple, Koramangala 8th B...   \n",
       "\n",
       "                        name online_order book_table  votes  \\\n",
       "0         Al Swaad Take Away          Yes         No     13   \n",
       "1          The Boozy Griffin           No        Yes   5015   \n",
       "2                     Barkat           No         No      6   \n",
       "3                   Sriracha           No         No    699   \n",
       "4  Sri Ganesh Juice Junction          Yes         No    129   \n",
       "\n",
       "                            phone               location           rest_type  \\\n",
       "0  +91 7019942388\\n+91 9902335220          Richmond Road         Quick Bites   \n",
       "1                    080 33512954  Koramangala 5th Block  Casual Dining, Pub   \n",
       "2                  +91 9019670836                    BTM         Quick Bites   \n",
       "3  +91 8041755366\\n+91 7022422473           Lavelle Road       Casual Dining   \n",
       "4                  +91 9845623889  Koramangala 8th Block       Beverage Shop   \n",
       "\n",
       "                                          dish_liked  \\\n",
       "0                                                NaN   \n",
       "1  Cocktails, Craft Beer, Salads, Devils Chicken,...   \n",
       "2                                                NaN   \n",
       "3  Noodles, Laksa, Cocktails, Dumplings, Sangria,...   \n",
       "4                                                NaN   \n",
       "\n",
       "                                  cuisines approx_cost(for two people)  \\\n",
       "0      North Indian, South Indian, Arabian                         350   \n",
       "1                    European, Continental                       1,800   \n",
       "2                                   Kerala                         250   \n",
       "3  Thai, Chinese, Indonesian, Asian, Momos                       1,500   \n",
       "4                        Juices, Fast Food                         150   \n",
       "\n",
       "                                        reviews_list  \\\n",
       "0  [('Rated 1.0', 'RATED\\n  If U need reasonable ...   \n",
       "1  [('Rated 5.0', 'RATED\\n  Really great ambience...   \n",
       "2                                                 []   \n",
       "3  [('Rated 3.0', 'RATED\\n  Another restaurant in...   \n",
       "4  [('Rated 4.0', 'RATED\\n  Good cafe with most v...   \n",
       "\n",
       "                                           menu_item listed_in(type)  \\\n",
       "0  ['Beef Seekh Kabab', 'Beef BBQ Chops', 'Beef M...        Delivery   \n",
       "1                                                 []        Dine-out   \n",
       "2                                                 []        Dine-out   \n",
       "3                                                 []        Dine-out   \n",
       "4  ['Dry Fruit Milkshake', 'Wheat Grass with Wate...        Delivery   \n",
       "\n",
       "         listed_in(city) rates  \n",
       "0         Residency Road  3.1   \n",
       "1  Koramangala 6th Block  4.6   \n",
       "2  Koramangala 4th Block  3.4   \n",
       "3         Residency Road  4.3   \n",
       "4  Koramangala 6th Block  3.7   "
      ]
     },
     "execution_count": 245,
     "metadata": {},
     "output_type": "execute_result"
    }
   ],
   "source": [
    "# confirming the excel file is it loaded or not\n",
    "df.head(5)"
   ]
  },
  {
   "cell_type": "code",
   "execution_count": 6,
   "metadata": {},
   "outputs": [
    {
     "data": {
      "text/plain": [
       "(41373, 17)"
      ]
     },
     "execution_count": 6,
     "metadata": {},
     "output_type": "execute_result"
    }
   ],
   "source": [
    "# checking the size\n",
    "\n",
    "df.shape"
   ]
  },
  {
   "cell_type": "markdown",
   "metadata": {},
   "source": [
    "#### It consists of 41,373 rows and 17 columns"
   ]
  },
  {
   "cell_type": "code",
   "execution_count": 119,
   "metadata": {},
   "outputs": [
    {
     "data": {
      "text/plain": [
       "Index(['url', 'address', 'name', 'online_order', 'book_table', 'votes',\n",
       "       'phone', 'location', 'rest_type', 'dish_liked', 'cuisines',\n",
       "       'approx_cost(for two people)', 'reviews_list', 'menu_item',\n",
       "       'listed_in(type)', 'listed_in(city)', 'rates'],\n",
       "      dtype='object')"
      ]
     },
     "execution_count": 119,
     "metadata": {},
     "output_type": "execute_result"
    }
   ],
   "source": [
    "# Listed the column names\n",
    "# len(df.columns)\n",
    "\n",
    "df.columns"
   ]
  },
  {
   "cell_type": "code",
   "execution_count": 120,
   "metadata": {},
   "outputs": [
    {
     "name": "stdout",
     "output_type": "stream",
     "text": [
      "<class 'pandas.core.frame.DataFrame'>\n",
      "RangeIndex: 41373 entries, 0 to 41372\n",
      "Data columns (total 17 columns):\n",
      "url                            41373 non-null object\n",
      "address                        41373 non-null object\n",
      "name                           41373 non-null object\n",
      "online_order                   41373 non-null object\n",
      "book_table                     41373 non-null object\n",
      "votes                          41373 non-null int64\n",
      "phone                          40402 non-null object\n",
      "location                       41358 non-null object\n",
      "rest_type                      41198 non-null object\n",
      "dish_liked                     18901 non-null object\n",
      "cuisines                       41341 non-null object\n",
      "approx_cost(for two people)    41094 non-null object\n",
      "reviews_list                   41373 non-null object\n",
      "menu_item                      41373 non-null object\n",
      "listed_in(type)                41373 non-null object\n",
      "listed_in(city)                41373 non-null object\n",
      "rates                          33392 non-null object\n",
      "dtypes: int64(1), object(16)\n",
      "memory usage: 5.4+ MB\n"
     ]
    }
   ],
   "source": [
    "# Understanding the data frame\n",
    "\n",
    "df.info()"
   ]
  },
  {
   "cell_type": "markdown",
   "metadata": {},
   "source": [
    "### Key Notes:\n",
    "    * Only one int type column named votes\n",
    "    * Columns - phone, location, rest_type, dish_liked, cuisines, approx_cost(for two people),rates consist of NaN values"
   ]
  },
  {
   "cell_type": "code",
   "execution_count": 26,
   "metadata": {},
   "outputs": [
    {
     "data": {
      "text/plain": [
       "url                                0\n",
       "address                            0\n",
       "name                               0\n",
       "online_order                       0\n",
       "book_table                         0\n",
       "votes                              0\n",
       "phone                            971\n",
       "location                          15\n",
       "rest_type                        175\n",
       "dish_liked                     22472\n",
       "cuisines                          32\n",
       "approx_cost(for two people)      279\n",
       "reviews_list                       0\n",
       "menu_item                          0\n",
       "listed_in(type)                    0\n",
       "listed_in(city)                    0\n",
       "rates                           7981\n",
       "dtype: int64"
      ]
     },
     "execution_count": 26,
     "metadata": {},
     "output_type": "execute_result"
    }
   ],
   "source": [
    "df.isnull().sum()"
   ]
  },
  {
   "cell_type": "markdown",
   "metadata": {},
   "source": [
    "### Points Analysed:\n",
    "* Each column number descibes that much of NaN Values in their respective columns\n",
    "* dish_liked has high NaN values - 22,472 \n",
    "* location has less NaN values - 15 other than 0."
   ]
  },
  {
   "cell_type": "markdown",
   "metadata": {},
   "source": [
    "### Some Visual work"
   ]
  },
  {
   "cell_type": "code",
   "execution_count": 122,
   "metadata": {},
   "outputs": [
    {
     "data": {
      "text/plain": [
       "No     36231\n",
       "Yes     5142\n",
       "Name: book_table, dtype: int64"
      ]
     },
     "execution_count": 122,
     "metadata": {},
     "output_type": "execute_result"
    }
   ],
   "source": [
    "# how many table booking acceptance restaurants\n",
    "\n",
    "df.book_table.value_counts()"
   ]
  },
  {
   "cell_type": "code",
   "execution_count": 63,
   "metadata": {},
   "outputs": [
    {
     "data": {
      "image/png": "[encoded data removed]",
      "text/plain": [
       "<Figure size 432x288 with 1 Axes>"
      ]
     },
     "metadata": {
      "needs_background": "light"
     },
     "output_type": "display_data"
    }
   ],
   "source": [
    "plt.bar(['no','yes'],df.book_table.value_counts(), width = 0.4, color='red')\n",
    "plt.title('Table Booking Summary')\n",
    "plt.xlabel('Book Table')\n",
    "plt.ylabel('Count')\n",
    "plt.show()\n"
   ]
  },
  {
   "cell_type": "markdown",
   "metadata": {},
   "source": [
    "### Points Analysed:\n",
    "* As mentioned above it has no NaN values\n",
    "* Most of Restaurants in Bangalore Doesn't Support Table Booking Feature\n",
    "* Above Bar Graph Describes 36,231 restaurants dont have table booking and 5,142 have table booking feature"
   ]
  },
  {
   "cell_type": "code",
   "execution_count": 124,
   "metadata": {},
   "outputs": [
    {
     "data": {
      "text/html": [
       "<div>\n",
       "<style scoped>\n",
       "    .dataframe tbody tr th:only-of-type {\n",
       "        vertical-align: middle;\n",
       "    }\n",
       "\n",
       "    .dataframe tbody tr th {\n",
       "        vertical-align: top;\n",
       "    }\n",
       "\n",
       "    .dataframe thead th {\n",
       "        text-align: right;\n",
       "    }\n",
       "</style>\n",
       "<table border=\"1\" class=\"dataframe\">\n",
       "  <thead>\n",
       "    <tr style=\"text-align: right;\">\n",
       "      <th></th>\n",
       "      <th>url</th>\n",
       "      <th>address</th>\n",
       "      <th>name</th>\n",
       "      <th>online_order</th>\n",
       "      <th>book_table</th>\n",
       "      <th>votes</th>\n",
       "      <th>phone</th>\n",
       "      <th>location</th>\n",
       "      <th>rest_type</th>\n",
       "      <th>dish_liked</th>\n",
       "      <th>cuisines</th>\n",
       "      <th>approx_cost(for two people)</th>\n",
       "      <th>reviews_list</th>\n",
       "      <th>menu_item</th>\n",
       "      <th>listed_in(type)</th>\n",
       "      <th>listed_in(city)</th>\n",
       "      <th>rates</th>\n",
       "    </tr>\n",
       "  </thead>\n",
       "  <tbody>\n",
       "    <tr>\n",
       "      <th>41368</th>\n",
       "      <td>https://www.zomato.com/bangalore/koshys-st-mar...</td>\n",
       "      <td>39, St. Marks Road, Bangalore</td>\n",
       "      <td>Koshy's</td>\n",
       "      <td>No</td>\n",
       "      <td>No</td>\n",
       "      <td>2332</td>\n",
       "      <td>080 22915840\\n080 22213793</td>\n",
       "      <td>St. Marks Road</td>\n",
       "      <td>Casual Dining</td>\n",
       "      <td>Coffee, Kulfi, Beef Steak, Chocolate Shake, Sa...</td>\n",
       "      <td>South Indian, North Indian, Chinese, Beverages</td>\n",
       "      <td>700</td>\n",
       "      <td>[('Rated 4.0', 'RATED\\n  A place where you get...</td>\n",
       "      <td>[]</td>\n",
       "      <td>Dine-out</td>\n",
       "      <td>Residency Road</td>\n",
       "      <td>3.8</td>\n",
       "    </tr>\n",
       "    <tr>\n",
       "      <th>41369</th>\n",
       "      <td>https://www.zomato.com/bangalore/midnight-spec...</td>\n",
       "      <td>521, 2nd Floor, Teachers Colony, Sarjapura Rin...</td>\n",
       "      <td>Midnight Special</td>\n",
       "      <td>Yes</td>\n",
       "      <td>No</td>\n",
       "      <td>0</td>\n",
       "      <td>+91 80420780493</td>\n",
       "      <td>HSR</td>\n",
       "      <td>Takeaway, Delivery</td>\n",
       "      <td>NaN</td>\n",
       "      <td>North Indian, Fast Food, Chinese</td>\n",
       "      <td>500</td>\n",
       "      <td>[]</td>\n",
       "      <td>[]</td>\n",
       "      <td>Delivery</td>\n",
       "      <td>Koramangala 4th Block</td>\n",
       "      <td>NaN</td>\n",
       "    </tr>\n",
       "    <tr>\n",
       "      <th>41370</th>\n",
       "      <td>https://www.zomato.com/bangalore/sholay-the-ba...</td>\n",
       "      <td>1, RMV 2nd Stage, 3rd Block, Chikkamaranahalli...</td>\n",
       "      <td>Sholay - The Barbeque</td>\n",
       "      <td>Yes</td>\n",
       "      <td>Yes</td>\n",
       "      <td>45</td>\n",
       "      <td>+91 7619328882</td>\n",
       "      <td>New BEL Road</td>\n",
       "      <td>Casual Dining</td>\n",
       "      <td>NaN</td>\n",
       "      <td>North Indian, BBQ</td>\n",
       "      <td>1,200</td>\n",
       "      <td>[('Rated 2.0', 'RATED\\n  That building homes t...</td>\n",
       "      <td>[]</td>\n",
       "      <td>Dine-out</td>\n",
       "      <td>New BEL Road</td>\n",
       "      <td>3.5</td>\n",
       "    </tr>\n",
       "    <tr>\n",
       "      <th>41371</th>\n",
       "      <td>https://www.zomato.com/bangalore/ghar-ka-bhoja...</td>\n",
       "      <td>93, 1st Floor, Opoosite Venkateshwara Temple, ...</td>\n",
       "      <td>Ghar Ka Bhojan</td>\n",
       "      <td>No</td>\n",
       "      <td>No</td>\n",
       "      <td>7</td>\n",
       "      <td>+91 9945810850\\n+91 9997888609</td>\n",
       "      <td>Domlur</td>\n",
       "      <td>Delivery</td>\n",
       "      <td>NaN</td>\n",
       "      <td>North Indian, Healthy Food</td>\n",
       "      <td>200</td>\n",
       "      <td>[('Rated 1.0', 'RATED\\n  Food not upto the mar...</td>\n",
       "      <td>[]</td>\n",
       "      <td>Delivery</td>\n",
       "      <td>MG Road</td>\n",
       "      <td>3.3</td>\n",
       "    </tr>\n",
       "    <tr>\n",
       "      <th>41372</th>\n",
       "      <td>https://www.zomato.com/bangalore/sree-sagar-ba...</td>\n",
       "      <td>8, Yarab Nagar Main Road, 2nd Stage, Banashank...</td>\n",
       "      <td>Sree Sagar</td>\n",
       "      <td>Yes</td>\n",
       "      <td>No</td>\n",
       "      <td>0</td>\n",
       "      <td>+91 9449150005</td>\n",
       "      <td>Banashankari</td>\n",
       "      <td>Quick Bites</td>\n",
       "      <td>NaN</td>\n",
       "      <td>South Indian</td>\n",
       "      <td>200</td>\n",
       "      <td>[('Rated 3.5', \"RATED\\n  Visited this restaura...</td>\n",
       "      <td>[]</td>\n",
       "      <td>Dine-out</td>\n",
       "      <td>Basavanagudi</td>\n",
       "      <td>NaN</td>\n",
       "    </tr>\n",
       "  </tbody>\n",
       "</table>\n",
       "</div>"
      ],
      "text/plain": [
       "                                                     url  \\\n",
       "41368  https://www.zomato.com/bangalore/koshys-st-mar...   \n",
       "41369  https://www.zomato.com/bangalore/midnight-spec...   \n",
       "41370  https://www.zomato.com/bangalore/sholay-the-ba...   \n",
       "41371  https://www.zomato.com/bangalore/ghar-ka-bhoja...   \n",
       "41372  https://www.zomato.com/bangalore/sree-sagar-ba...   \n",
       "\n",
       "                                                 address  \\\n",
       "41368                      39, St. Marks Road, Bangalore   \n",
       "41369  521, 2nd Floor, Teachers Colony, Sarjapura Rin...   \n",
       "41370  1, RMV 2nd Stage, 3rd Block, Chikkamaranahalli...   \n",
       "41371  93, 1st Floor, Opoosite Venkateshwara Temple, ...   \n",
       "41372  8, Yarab Nagar Main Road, 2nd Stage, Banashank...   \n",
       "\n",
       "                        name online_order book_table  votes  \\\n",
       "41368                Koshy's           No         No   2332   \n",
       "41369       Midnight Special          Yes         No      0   \n",
       "41370  Sholay - The Barbeque          Yes        Yes     45   \n",
       "41371         Ghar Ka Bhojan           No         No      7   \n",
       "41372             Sree Sagar          Yes         No      0   \n",
       "\n",
       "                                phone        location           rest_type  \\\n",
       "41368      080 22915840\\n080 22213793  St. Marks Road       Casual Dining   \n",
       "41369                 +91 80420780493             HSR  Takeaway, Delivery   \n",
       "41370                  +91 7619328882    New BEL Road       Casual Dining   \n",
       "41371  +91 9945810850\\n+91 9997888609          Domlur            Delivery   \n",
       "41372                  +91 9449150005    Banashankari         Quick Bites   \n",
       "\n",
       "                                              dish_liked  \\\n",
       "41368  Coffee, Kulfi, Beef Steak, Chocolate Shake, Sa...   \n",
       "41369                                                NaN   \n",
       "41370                                                NaN   \n",
       "41371                                                NaN   \n",
       "41372                                                NaN   \n",
       "\n",
       "                                             cuisines  \\\n",
       "41368  South Indian, North Indian, Chinese, Beverages   \n",
       "41369                North Indian, Fast Food, Chinese   \n",
       "41370                               North Indian, BBQ   \n",
       "41371                      North Indian, Healthy Food   \n",
       "41372                                    South Indian   \n",
       "\n",
       "      approx_cost(for two people)  \\\n",
       "41368                         700   \n",
       "41369                         500   \n",
       "41370                       1,200   \n",
       "41371                         200   \n",
       "41372                         200   \n",
       "\n",
       "                                            reviews_list menu_item  \\\n",
       "41368  [('Rated 4.0', 'RATED\\n  A place where you get...        []   \n",
       "41369                                                 []        []   \n",
       "41370  [('Rated 2.0', 'RATED\\n  That building homes t...        []   \n",
       "41371  [('Rated 1.0', 'RATED\\n  Food not upto the mar...        []   \n",
       "41372  [('Rated 3.5', \"RATED\\n  Visited this restaura...        []   \n",
       "\n",
       "      listed_in(type)        listed_in(city) rates  \n",
       "41368        Dine-out         Residency Road  3.8   \n",
       "41369        Delivery  Koramangala 4th Block   NaN  \n",
       "41370        Dine-out           New BEL Road  3.5   \n",
       "41371        Delivery                MG Road  3.3   \n",
       "41372        Dine-out           Basavanagudi   NaN  "
      ]
     },
     "execution_count": 124,
     "metadata": {},
     "output_type": "execute_result"
    }
   ],
   "source": [
    "df.tail()"
   ]
  },
  {
   "cell_type": "markdown",
   "metadata": {},
   "source": [
    "### Online order acceptance"
   ]
  },
  {
   "cell_type": "code",
   "execution_count": 62,
   "metadata": {},
   "outputs": [
    {
     "data": {
      "text/plain": [
       "Yes    24330\n",
       "No     17043\n",
       "Name: online_order, dtype: int64"
      ]
     },
     "execution_count": 62,
     "metadata": {},
     "output_type": "execute_result"
    }
   ],
   "source": [
    "df.online_order.value_counts()"
   ]
  },
  {
   "cell_type": "code",
   "execution_count": 57,
   "metadata": {},
   "outputs": [
    {
     "data": {
      "image/png": "[encoded data removed]",
      "text/plain": [
       "<Figure size 432x288 with 1 Axes>"
      ]
     },
     "metadata": {
      "needs_background": "light"
     },
     "output_type": "display_data"
    }
   ],
   "source": [
    "# similarly for yes no value for online order :\n",
    "plt.bar(['Yes - 24330','No - 17043'],df.online_order.value_counts(), width = 0.4, color='Green')\n",
    "plt.title('Online Order Summary')\n",
    "plt.xlabel('Online Order')\n",
    "plt.ylabel('Count')\n",
    "plt.show()"
   ]
  },
  {
   "cell_type": "markdown",
   "metadata": {},
   "source": [
    "### Points Analysed:\n",
    "* Online Order Column has No Null values\n",
    "* 24,330 Restaurants supports Online Order\n",
    "* 17,043 Restaurants doesn't support online order."
   ]
  },
  {
   "cell_type": "markdown",
   "metadata": {},
   "source": [
    "### Location Wise - Restaurant types"
   ]
  },
  {
   "cell_type": "code",
   "execution_count": 73,
   "metadata": {},
   "outputs": [
    {
     "data": {
      "text/plain": [
       "array(['Richmond Road', 'Koramangala 5th Block', 'BTM', 'Lavelle Road',\n",
       "       'Koramangala 8th Block', 'Shanti Nagar', 'Marathahalli',\n",
       "       'Koramangala 7th Block', 'Bannerghatta Road', 'Brigade Road',\n",
       "       'Thippasandra', 'Majestic', 'Whitefield', 'Bellandur', 'Ulsoor',\n",
       "       'Koramangala 6th Block', 'HSR', 'Domlur', 'JP Nagar', 'Hennur',\n",
       "       'Jayanagar', 'Malleshwaram', 'Varthur Main Road, Whitefield',\n",
       "       'Frazer Town', 'New BEL Road', 'Old Airport Road', 'Kalyan Nagar',\n",
       "       'Church Street', 'Commercial Street', 'Indiranagar',\n",
       "       'Koramangala 4th Block', 'Bommanahalli', 'Residency Road',\n",
       "       'Banaswadi', 'Banashankari', 'MG Road', 'Sadashiv Nagar',\n",
       "       'Kaggadasapura', 'Brookefield', 'Nagawara', 'Cunningham Road',\n",
       "       'Sarjapur Road', 'Kammanahalli', 'HBR Layout', 'Electronic City',\n",
       "       'Basavanagudi', 'Hosur Road', 'Vijay Nagar', 'Rajajinagar',\n",
       "       'Koramangala', 'Koramangala 1st Block', 'CV Raman Nagar',\n",
       "       'RT Nagar', 'Kumaraswamy Layout', 'Vasanth Nagar',\n",
       "       'St. Marks Road', 'City Market', 'Ejipura', 'Sahakara Nagar',\n",
       "       'Shivajinagar', 'South Bangalore', 'East Bangalore',\n",
       "       'Wilson Garden', 'Seshadripuram', 'ITPL Main Road, Whitefield',\n",
       "       'Koramangala 3rd Block', 'Old Madras Road', 'Basaveshwara Nagar',\n",
       "       'KR Puram', 'Yeshwantpur', 'Jeevan Bhima Nagar',\n",
       "       'Koramangala 2nd Block', 'Rammurthy Nagar', 'Race Course Road',\n",
       "       'Jalahalli', 'Mysore Road', 'North Bangalore', nan, 'Sanjay Nagar',\n",
       "       'Infantry Road', 'Kanakapura Road', 'Magadi Road', 'Sankey Road',\n",
       "       'Uttarahalli', 'Langford Town', 'Central Bangalore', 'Hebbal',\n",
       "       'Kengeri', 'Nagarbhavi', 'West Bangalore', 'Yelahanka', 'Jakkur',\n",
       "       'Rajarajeshwari Nagar', 'Peenya'], dtype=object)"
      ]
     },
     "execution_count": 73,
     "metadata": {},
     "output_type": "execute_result"
    }
   ],
   "source": [
    "# How Many unique locations Presents in Bangalore?\n",
    "df.location.unique()"
   ]
  },
  {
   "cell_type": "code",
   "execution_count": 88,
   "metadata": {},
   "outputs": [
    {
     "data": {
      "image/png": "[encoded data removed]",
      "text/plain": [
       "<Figure size 432x288 with 1 Axes>"
      ]
     },
     "metadata": {
      "needs_background": "light"
     },
     "output_type": "display_data"
    }
   ],
   "source": [
    "plt.barh(df.location.value_counts()[15::-1].index,df.location.value_counts()[15::-1], 0.5, color='black')\n",
    "plt.xlabel('Number of Restaurants')\n",
    "plt.ylabel('Location Names')\n",
    "plt.title('Location wise Restaurants Top 15')\n",
    "plt.show()"
   ]
  },
  {
   "cell_type": "markdown",
   "metadata": {},
   "source": [
    "### Points Analysed:\n",
    "* There are 93 Locations in Bangalore\n",
    "* Here I am Pointing only 15 locations\n",
    "* BTM is the First location to stand out in Restaurants capacity"
   ]
  },
  {
   "cell_type": "code",
   "execution_count": 89,
   "metadata": {},
   "outputs": [
    {
     "data": {
      "text/html": [
       "<div>\n",
       "<style scoped>\n",
       "    .dataframe tbody tr th:only-of-type {\n",
       "        vertical-align: middle;\n",
       "    }\n",
       "\n",
       "    .dataframe tbody tr th {\n",
       "        vertical-align: top;\n",
       "    }\n",
       "\n",
       "    .dataframe thead th {\n",
       "        text-align: right;\n",
       "    }\n",
       "</style>\n",
       "<table border=\"1\" class=\"dataframe\">\n",
       "  <thead>\n",
       "    <tr style=\"text-align: right;\">\n",
       "      <th></th>\n",
       "      <th>url</th>\n",
       "      <th>address</th>\n",
       "      <th>name</th>\n",
       "      <th>online_order</th>\n",
       "      <th>book_table</th>\n",
       "      <th>votes</th>\n",
       "      <th>phone</th>\n",
       "      <th>location</th>\n",
       "      <th>rest_type</th>\n",
       "      <th>dish_liked</th>\n",
       "      <th>cuisines</th>\n",
       "      <th>approx_cost(for two people)</th>\n",
       "      <th>reviews_list</th>\n",
       "      <th>menu_item</th>\n",
       "      <th>listed_in(type)</th>\n",
       "      <th>listed_in(city)</th>\n",
       "      <th>rates</th>\n",
       "    </tr>\n",
       "  </thead>\n",
       "  <tbody>\n",
       "    <tr>\n",
       "      <th>0</th>\n",
       "      <td>https://www.zomato.com/bangalore/al-swaad-take...</td>\n",
       "      <td>18, Masjid Street, Opp Akbari Masjid Neelasand...</td>\n",
       "      <td>Al Swaad Take Away</td>\n",
       "      <td>Yes</td>\n",
       "      <td>No</td>\n",
       "      <td>13</td>\n",
       "      <td>+91 7019942388\\n+91 9902335220</td>\n",
       "      <td>Richmond Road</td>\n",
       "      <td>Quick Bites</td>\n",
       "      <td>NaN</td>\n",
       "      <td>North Indian, South Indian, Arabian</td>\n",
       "      <td>350</td>\n",
       "      <td>[('Rated 1.0', 'RATED\\n  If U need reasonable ...</td>\n",
       "      <td>['Beef Seekh Kabab', 'Beef BBQ Chops', 'Beef M...</td>\n",
       "      <td>Delivery</td>\n",
       "      <td>Residency Road</td>\n",
       "      <td>3.1</td>\n",
       "    </tr>\n",
       "    <tr>\n",
       "      <th>1</th>\n",
       "      <td>https://www.zomato.com/bangalore/the-boozy-gri...</td>\n",
       "      <td>2nd Floor, 1st A Cross Road, Jyothi Nivas Coll...</td>\n",
       "      <td>The Boozy Griffin</td>\n",
       "      <td>No</td>\n",
       "      <td>Yes</td>\n",
       "      <td>5015</td>\n",
       "      <td>080 33512954</td>\n",
       "      <td>Koramangala 5th Block</td>\n",
       "      <td>Casual Dining, Pub</td>\n",
       "      <td>Cocktails, Craft Beer, Salads, Devils Chicken,...</td>\n",
       "      <td>European, Continental</td>\n",
       "      <td>1,800</td>\n",
       "      <td>[('Rated 5.0', 'RATED\\n  Really great ambience...</td>\n",
       "      <td>[]</td>\n",
       "      <td>Dine-out</td>\n",
       "      <td>Koramangala 6th Block</td>\n",
       "      <td>4.6</td>\n",
       "    </tr>\n",
       "    <tr>\n",
       "      <th>2</th>\n",
       "      <td>https://www.zomato.com/bangalore/barkat-btm-ba...</td>\n",
       "      <td>28th, 8th Cross, Maruthi Nagar, Madiwala, BTM,...</td>\n",
       "      <td>Barkat</td>\n",
       "      <td>No</td>\n",
       "      <td>No</td>\n",
       "      <td>6</td>\n",
       "      <td>+91 9019670836</td>\n",
       "      <td>BTM</td>\n",
       "      <td>Quick Bites</td>\n",
       "      <td>NaN</td>\n",
       "      <td>Kerala</td>\n",
       "      <td>250</td>\n",
       "      <td>[]</td>\n",
       "      <td>[]</td>\n",
       "      <td>Dine-out</td>\n",
       "      <td>Koramangala 4th Block</td>\n",
       "      <td>3.4</td>\n",
       "    </tr>\n",
       "    <tr>\n",
       "      <th>3</th>\n",
       "      <td>https://www.zomato.com/bangalore/sriracha-lave...</td>\n",
       "      <td>204, 2nd Level, 4th Floor, Comet Block, UB Cit...</td>\n",
       "      <td>Sriracha</td>\n",
       "      <td>No</td>\n",
       "      <td>No</td>\n",
       "      <td>699</td>\n",
       "      <td>+91 8041755366\\n+91 7022422473</td>\n",
       "      <td>Lavelle Road</td>\n",
       "      <td>Casual Dining</td>\n",
       "      <td>Noodles, Laksa, Cocktails, Dumplings, Sangria,...</td>\n",
       "      <td>Thai, Chinese, Indonesian, Asian, Momos</td>\n",
       "      <td>1,500</td>\n",
       "      <td>[('Rated 3.0', 'RATED\\n  Another restaurant in...</td>\n",
       "      <td>[]</td>\n",
       "      <td>Dine-out</td>\n",
       "      <td>Residency Road</td>\n",
       "      <td>4.3</td>\n",
       "    </tr>\n",
       "    <tr>\n",
       "      <th>4</th>\n",
       "      <td>https://www.zomato.com/bangalore/sri-ganesh-ju...</td>\n",
       "      <td>513, Opposite Ganesh Temple, Koramangala 8th B...</td>\n",
       "      <td>Sri Ganesh Juice Junction</td>\n",
       "      <td>Yes</td>\n",
       "      <td>No</td>\n",
       "      <td>129</td>\n",
       "      <td>+91 9845623889</td>\n",
       "      <td>Koramangala 8th Block</td>\n",
       "      <td>Beverage Shop</td>\n",
       "      <td>NaN</td>\n",
       "      <td>Juices, Fast Food</td>\n",
       "      <td>150</td>\n",
       "      <td>[('Rated 4.0', 'RATED\\n  Good cafe with most v...</td>\n",
       "      <td>['Dry Fruit Milkshake', 'Wheat Grass with Wate...</td>\n",
       "      <td>Delivery</td>\n",
       "      <td>Koramangala 6th Block</td>\n",
       "      <td>3.7</td>\n",
       "    </tr>\n",
       "  </tbody>\n",
       "</table>\n",
       "</div>"
      ],
      "text/plain": [
       "                                                 url  \\\n",
       "0  https://www.zomato.com/bangalore/al-swaad-take...   \n",
       "1  https://www.zomato.com/bangalore/the-boozy-gri...   \n",
       "2  https://www.zomato.com/bangalore/barkat-btm-ba...   \n",
       "3  https://www.zomato.com/bangalore/sriracha-lave...   \n",
       "4  https://www.zomato.com/bangalore/sri-ganesh-ju...   \n",
       "\n",
       "                                             address  \\\n",
       "0  18, Masjid Street, Opp Akbari Masjid Neelasand...   \n",
       "1  2nd Floor, 1st A Cross Road, Jyothi Nivas Coll...   \n",
       "2  28th, 8th Cross, Maruthi Nagar, Madiwala, BTM,...   \n",
       "3  204, 2nd Level, 4th Floor, Comet Block, UB Cit...   \n",
       "4  513, Opposite Ganesh Temple, Koramangala 8th B...   \n",
       "\n",
       "                        name online_order book_table  votes  \\\n",
       "0         Al Swaad Take Away          Yes         No     13   \n",
       "1          The Boozy Griffin           No        Yes   5015   \n",
       "2                     Barkat           No         No      6   \n",
       "3                   Sriracha           No         No    699   \n",
       "4  Sri Ganesh Juice Junction          Yes         No    129   \n",
       "\n",
       "                            phone               location           rest_type  \\\n",
       "0  +91 7019942388\\n+91 9902335220          Richmond Road         Quick Bites   \n",
       "1                    080 33512954  Koramangala 5th Block  Casual Dining, Pub   \n",
       "2                  +91 9019670836                    BTM         Quick Bites   \n",
       "3  +91 8041755366\\n+91 7022422473           Lavelle Road       Casual Dining   \n",
       "4                  +91 9845623889  Koramangala 8th Block       Beverage Shop   \n",
       "\n",
       "                                          dish_liked  \\\n",
       "0                                                NaN   \n",
       "1  Cocktails, Craft Beer, Salads, Devils Chicken,...   \n",
       "2                                                NaN   \n",
       "3  Noodles, Laksa, Cocktails, Dumplings, Sangria,...   \n",
       "4                                                NaN   \n",
       "\n",
       "                                  cuisines approx_cost(for two people)  \\\n",
       "0      North Indian, South Indian, Arabian                         350   \n",
       "1                    European, Continental                       1,800   \n",
       "2                                   Kerala                         250   \n",
       "3  Thai, Chinese, Indonesian, Asian, Momos                       1,500   \n",
       "4                        Juices, Fast Food                         150   \n",
       "\n",
       "                                        reviews_list  \\\n",
       "0  [('Rated 1.0', 'RATED\\n  If U need reasonable ...   \n",
       "1  [('Rated 5.0', 'RATED\\n  Really great ambience...   \n",
       "2                                                 []   \n",
       "3  [('Rated 3.0', 'RATED\\n  Another restaurant in...   \n",
       "4  [('Rated 4.0', 'RATED\\n  Good cafe with most v...   \n",
       "\n",
       "                                           menu_item listed_in(type)  \\\n",
       "0  ['Beef Seekh Kabab', 'Beef BBQ Chops', 'Beef M...        Delivery   \n",
       "1                                                 []        Dine-out   \n",
       "2                                                 []        Dine-out   \n",
       "3                                                 []        Dine-out   \n",
       "4  ['Dry Fruit Milkshake', 'Wheat Grass with Wate...        Delivery   \n",
       "\n",
       "         listed_in(city) rates  \n",
       "0         Residency Road  3.1   \n",
       "1  Koramangala 6th Block  4.6   \n",
       "2  Koramangala 4th Block  3.4   \n",
       "3         Residency Road  4.3   \n",
       "4  Koramangala 6th Block  3.7   "
      ]
     },
     "execution_count": 89,
     "metadata": {},
     "output_type": "execute_result"
    }
   ],
   "source": [
    "df.head(5)"
   ]
  },
  {
   "cell_type": "markdown",
   "metadata": {},
   "source": [
    "### Restaurant types : "
   ]
  },
  {
   "cell_type": "code",
   "execution_count": 91,
   "metadata": {},
   "outputs": [
    {
     "data": {
      "text/plain": [
       "False    41198\n",
       "True       175\n",
       "Name: rest_type, dtype: int64"
      ]
     },
     "execution_count": 91,
     "metadata": {},
     "output_type": "execute_result"
    }
   ],
   "source": [
    "# Checking How many Nan values\n",
    "df.rest_type.isnull().value_counts()"
   ]
  },
  {
   "cell_type": "code",
   "execution_count": 115,
   "metadata": {},
   "outputs": [],
   "source": [
    "# Droping Nan values and storing new Series\n",
    "df1=df.rest_type.dropna()\n",
    "\n",
    "# drops all Nan values and gives series "
   ]
  },
  {
   "cell_type": "code",
   "execution_count": 102,
   "metadata": {},
   "outputs": [
    {
     "data": {
      "text/plain": [
       "Quick Bites           15295\n",
       "Casual Dining          8322\n",
       "Cafe                   2960\n",
       "Delivery               2083\n",
       "Dessert Parlor         1815\n",
       "Takeaway, Delivery     1634\n",
       "Bakery                  913\n",
       "Casual Dining, Bar      908\n",
       "Beverage Shop           678\n",
       "Bar                     563\n",
       "Name: rest_type, dtype: int64"
      ]
     },
     "execution_count": 102,
     "metadata": {},
     "output_type": "execute_result"
    }
   ],
   "source": [
    "df1.value_counts()[:10]"
   ]
  },
  {
   "cell_type": "code",
   "execution_count": 116,
   "metadata": {},
   "outputs": [
    {
     "data": {
      "image/png": "[encoded data removed]",
      "text/plain": [
       "<Figure size 432x288 with 1 Axes>"
      ]
     },
     "metadata": {},
     "output_type": "display_data"
    }
   ],
   "source": [
    "plt.pie(df1.value_counts()[:10],labels=df1.value_counts()[:10].index)\n",
    "plt.title(\"Most visited Restaurant Types\")\n",
    "plt.show()"
   ]
  },
  {
   "cell_type": "markdown",
   "metadata": {},
   "source": [
    "### Points:\n",
    "* After Droping Null values length of restaruant types is : 41,198\n",
    "* Out of this Most common visited type of restaurant is Quick Bites, Next is Casual Dining"
   ]
  },
  {
   "cell_type": "code",
   "execution_count": 117,
   "metadata": {},
   "outputs": [
    {
     "data": {
      "text/html": [
       "<div>\n",
       "<style scoped>\n",
       "    .dataframe tbody tr th:only-of-type {\n",
       "        vertical-align: middle;\n",
       "    }\n",
       "\n",
       "    .dataframe tbody tr th {\n",
       "        vertical-align: top;\n",
       "    }\n",
       "\n",
       "    .dataframe thead th {\n",
       "        text-align: right;\n",
       "    }\n",
       "</style>\n",
       "<table border=\"1\" class=\"dataframe\">\n",
       "  <thead>\n",
       "    <tr style=\"text-align: right;\">\n",
       "      <th></th>\n",
       "      <th>url</th>\n",
       "      <th>address</th>\n",
       "      <th>name</th>\n",
       "      <th>online_order</th>\n",
       "      <th>book_table</th>\n",
       "      <th>votes</th>\n",
       "      <th>phone</th>\n",
       "      <th>location</th>\n",
       "      <th>rest_type</th>\n",
       "      <th>dish_liked</th>\n",
       "      <th>cuisines</th>\n",
       "      <th>approx_cost(for two people)</th>\n",
       "      <th>reviews_list</th>\n",
       "      <th>menu_item</th>\n",
       "      <th>listed_in(type)</th>\n",
       "      <th>listed_in(city)</th>\n",
       "      <th>rates</th>\n",
       "    </tr>\n",
       "  </thead>\n",
       "  <tbody>\n",
       "    <tr>\n",
       "      <th>0</th>\n",
       "      <td>https://www.zomato.com/bangalore/al-swaad-take...</td>\n",
       "      <td>18, Masjid Street, Opp Akbari Masjid Neelasand...</td>\n",
       "      <td>Al Swaad Take Away</td>\n",
       "      <td>Yes</td>\n",
       "      <td>No</td>\n",
       "      <td>13</td>\n",
       "      <td>+91 7019942388\\n+91 9902335220</td>\n",
       "      <td>Richmond Road</td>\n",
       "      <td>Quick Bites</td>\n",
       "      <td>NaN</td>\n",
       "      <td>North Indian, South Indian, Arabian</td>\n",
       "      <td>350</td>\n",
       "      <td>[('Rated 1.0', 'RATED\\n  If U need reasonable ...</td>\n",
       "      <td>['Beef Seekh Kabab', 'Beef BBQ Chops', 'Beef M...</td>\n",
       "      <td>Delivery</td>\n",
       "      <td>Residency Road</td>\n",
       "      <td>3.1</td>\n",
       "    </tr>\n",
       "    <tr>\n",
       "      <th>1</th>\n",
       "      <td>https://www.zomato.com/bangalore/the-boozy-gri...</td>\n",
       "      <td>2nd Floor, 1st A Cross Road, Jyothi Nivas Coll...</td>\n",
       "      <td>The Boozy Griffin</td>\n",
       "      <td>No</td>\n",
       "      <td>Yes</td>\n",
       "      <td>5015</td>\n",
       "      <td>080 33512954</td>\n",
       "      <td>Koramangala 5th Block</td>\n",
       "      <td>Casual Dining, Pub</td>\n",
       "      <td>Cocktails, Craft Beer, Salads, Devils Chicken,...</td>\n",
       "      <td>European, Continental</td>\n",
       "      <td>1,800</td>\n",
       "      <td>[('Rated 5.0', 'RATED\\n  Really great ambience...</td>\n",
       "      <td>[]</td>\n",
       "      <td>Dine-out</td>\n",
       "      <td>Koramangala 6th Block</td>\n",
       "      <td>4.6</td>\n",
       "    </tr>\n",
       "    <tr>\n",
       "      <th>2</th>\n",
       "      <td>https://www.zomato.com/bangalore/barkat-btm-ba...</td>\n",
       "      <td>28th, 8th Cross, Maruthi Nagar, Madiwala, BTM,...</td>\n",
       "      <td>Barkat</td>\n",
       "      <td>No</td>\n",
       "      <td>No</td>\n",
       "      <td>6</td>\n",
       "      <td>+91 9019670836</td>\n",
       "      <td>BTM</td>\n",
       "      <td>Quick Bites</td>\n",
       "      <td>NaN</td>\n",
       "      <td>Kerala</td>\n",
       "      <td>250</td>\n",
       "      <td>[]</td>\n",
       "      <td>[]</td>\n",
       "      <td>Dine-out</td>\n",
       "      <td>Koramangala 4th Block</td>\n",
       "      <td>3.4</td>\n",
       "    </tr>\n",
       "    <tr>\n",
       "      <th>3</th>\n",
       "      <td>https://www.zomato.com/bangalore/sriracha-lave...</td>\n",
       "      <td>204, 2nd Level, 4th Floor, Comet Block, UB Cit...</td>\n",
       "      <td>Sriracha</td>\n",
       "      <td>No</td>\n",
       "      <td>No</td>\n",
       "      <td>699</td>\n",
       "      <td>+91 8041755366\\n+91 7022422473</td>\n",
       "      <td>Lavelle Road</td>\n",
       "      <td>Casual Dining</td>\n",
       "      <td>Noodles, Laksa, Cocktails, Dumplings, Sangria,...</td>\n",
       "      <td>Thai, Chinese, Indonesian, Asian, Momos</td>\n",
       "      <td>1,500</td>\n",
       "      <td>[('Rated 3.0', 'RATED\\n  Another restaurant in...</td>\n",
       "      <td>[]</td>\n",
       "      <td>Dine-out</td>\n",
       "      <td>Residency Road</td>\n",
       "      <td>4.3</td>\n",
       "    </tr>\n",
       "    <tr>\n",
       "      <th>4</th>\n",
       "      <td>https://www.zomato.com/bangalore/sri-ganesh-ju...</td>\n",
       "      <td>513, Opposite Ganesh Temple, Koramangala 8th B...</td>\n",
       "      <td>Sri Ganesh Juice Junction</td>\n",
       "      <td>Yes</td>\n",
       "      <td>No</td>\n",
       "      <td>129</td>\n",
       "      <td>+91 9845623889</td>\n",
       "      <td>Koramangala 8th Block</td>\n",
       "      <td>Beverage Shop</td>\n",
       "      <td>NaN</td>\n",
       "      <td>Juices, Fast Food</td>\n",
       "      <td>150</td>\n",
       "      <td>[('Rated 4.0', 'RATED\\n  Good cafe with most v...</td>\n",
       "      <td>['Dry Fruit Milkshake', 'Wheat Grass with Wate...</td>\n",
       "      <td>Delivery</td>\n",
       "      <td>Koramangala 6th Block</td>\n",
       "      <td>3.7</td>\n",
       "    </tr>\n",
       "  </tbody>\n",
       "</table>\n",
       "</div>"
      ],
      "text/plain": [
       "                                                 url  \\\n",
       "0  https://www.zomato.com/bangalore/al-swaad-take...   \n",
       "1  https://www.zomato.com/bangalore/the-boozy-gri...   \n",
       "2  https://www.zomato.com/bangalore/barkat-btm-ba...   \n",
       "3  https://www.zomato.com/bangalore/sriracha-lave...   \n",
       "4  https://www.zomato.com/bangalore/sri-ganesh-ju...   \n",
       "\n",
       "                                             address  \\\n",
       "0  18, Masjid Street, Opp Akbari Masjid Neelasand...   \n",
       "1  2nd Floor, 1st A Cross Road, Jyothi Nivas Coll...   \n",
       "2  28th, 8th Cross, Maruthi Nagar, Madiwala, BTM,...   \n",
       "3  204, 2nd Level, 4th Floor, Comet Block, UB Cit...   \n",
       "4  513, Opposite Ganesh Temple, Koramangala 8th B...   \n",
       "\n",
       "                        name online_order book_table  votes  \\\n",
       "0         Al Swaad Take Away          Yes         No     13   \n",
       "1          The Boozy Griffin           No        Yes   5015   \n",
       "2                     Barkat           No         No      6   \n",
       "3                   Sriracha           No         No    699   \n",
       "4  Sri Ganesh Juice Junction          Yes         No    129   \n",
       "\n",
       "                            phone               location           rest_type  \\\n",
       "0  +91 7019942388\\n+91 9902335220          Richmond Road         Quick Bites   \n",
       "1                    080 33512954  Koramangala 5th Block  Casual Dining, Pub   \n",
       "2                  +91 9019670836                    BTM         Quick Bites   \n",
       "3  +91 8041755366\\n+91 7022422473           Lavelle Road       Casual Dining   \n",
       "4                  +91 9845623889  Koramangala 8th Block       Beverage Shop   \n",
       "\n",
       "                                          dish_liked  \\\n",
       "0                                                NaN   \n",
       "1  Cocktails, Craft Beer, Salads, Devils Chicken,...   \n",
       "2                                                NaN   \n",
       "3  Noodles, Laksa, Cocktails, Dumplings, Sangria,...   \n",
       "4                                                NaN   \n",
       "\n",
       "                                  cuisines approx_cost(for two people)  \\\n",
       "0      North Indian, South Indian, Arabian                         350   \n",
       "1                    European, Continental                       1,800   \n",
       "2                                   Kerala                         250   \n",
       "3  Thai, Chinese, Indonesian, Asian, Momos                       1,500   \n",
       "4                        Juices, Fast Food                         150   \n",
       "\n",
       "                                        reviews_list  \\\n",
       "0  [('Rated 1.0', 'RATED\\n  If U need reasonable ...   \n",
       "1  [('Rated 5.0', 'RATED\\n  Really great ambience...   \n",
       "2                                                 []   \n",
       "3  [('Rated 3.0', 'RATED\\n  Another restaurant in...   \n",
       "4  [('Rated 4.0', 'RATED\\n  Good cafe with most v...   \n",
       "\n",
       "                                           menu_item listed_in(type)  \\\n",
       "0  ['Beef Seekh Kabab', 'Beef BBQ Chops', 'Beef M...        Delivery   \n",
       "1                                                 []        Dine-out   \n",
       "2                                                 []        Dine-out   \n",
       "3                                                 []        Dine-out   \n",
       "4  ['Dry Fruit Milkshake', 'Wheat Grass with Wate...        Delivery   \n",
       "\n",
       "         listed_in(city) rates  \n",
       "0         Residency Road  3.1   \n",
       "1  Koramangala 6th Block  4.6   \n",
       "2  Koramangala 4th Block  3.4   \n",
       "3         Residency Road  4.3   \n",
       "4  Koramangala 6th Block  3.7   "
      ]
     },
     "execution_count": 117,
     "metadata": {},
     "output_type": "execute_result"
    }
   ],
   "source": [
    "df.head(5)"
   ]
  },
  {
   "cell_type": "markdown",
   "metadata": {},
   "source": [
    "### Dishes Liked"
   ]
  },
  {
   "cell_type": "code",
   "execution_count": 130,
   "metadata": {},
   "outputs": [
    {
     "data": {
      "text/plain": [
       "True     22472\n",
       "False    18901\n",
       "Name: dish_liked, dtype: int64"
      ]
     },
     "execution_count": 130,
     "metadata": {},
     "output_type": "execute_result"
    }
   ],
   "source": [
    "df.dish_liked.isnull().value_counts()"
   ]
  },
  {
   "cell_type": "code",
   "execution_count": 131,
   "metadata": {},
   "outputs": [],
   "source": [
    "df2 = df.dish_liked.dropna()"
   ]
  },
  {
   "cell_type": "code",
   "execution_count": 152,
   "metadata": {},
   "outputs": [],
   "source": [
    "df2 = df2.apply(lambda x: x.lower()) # coverting all words to one form "
   ]
  },
  {
   "cell_type": "code",
   "execution_count": 158,
   "metadata": {},
   "outputs": [
    {
     "name": "stdout",
     "output_type": "stream",
     "text": [
      "sample is :  ['cocktails', 'craft beer', 'salads', 'devils chicken', 'sea food']\n",
      "Length of dishes list is :  103226\n"
     ]
    }
   ],
   "source": [
    "#  separating each dishes from series as single value\n",
    "d_count = []\n",
    "for i in df2:\n",
    "    for j in i.split(','):\n",
    "        j = j.strip() # assuming wheather they have spaces \n",
    "        d_count.append(j)\n",
    "        \n",
    "print('sample is : ' ,d_count[:5])\n",
    "print('Length of dishes list is : ',len(d_count))"
   ]
  },
  {
   "cell_type": "code",
   "execution_count": 159,
   "metadata": {},
   "outputs": [
    {
     "data": {
      "text/plain": [
       "pasta              2712\n",
       "burgers            2410\n",
       "cocktails          2261\n",
       "pizza              2161\n",
       "biryani            1669\n",
       "coffee             1584\n",
       "mocktails          1470\n",
       "sandwiches         1337\n",
       "paratha            1228\n",
       "noodles            1116\n",
       "salads             1101\n",
       "fish               1088\n",
       "chicken biryani    1077\n",
       "nachos             1070\n",
       "beer               1008\n",
       "dtype: int64"
      ]
     },
     "execution_count": 159,
     "metadata": {},
     "output_type": "execute_result"
    }
   ],
   "source": [
    "df3 = pd.Series(d_count) # coverting list to Series Data to apply operations\n",
    "df3.value_counts()[:15]\n"
   ]
  },
  {
   "cell_type": "code",
   "execution_count": 174,
   "metadata": {},
   "outputs": [
    {
     "data": {
      "image/png": "[encoded data removed]",
      "text/plain": [
       "<Figure size 432x288 with 1 Axes>"
      ]
     },
     "metadata": {
      "needs_background": "light"
     },
     "output_type": "display_data"
    }
   ],
   "source": [
    "plt.bar(df3.value_counts()[:15].index,df3.value_counts()[:15], 0.5, color='orange')\n",
    "plt.xticks(rotation=75)\n",
    "plt.ylabel('Number')\n",
    "plt.xlabel('Dishes names')\n",
    "plt.title('Dishes Mostly liked Top 15')\n",
    "plt.show()"
   ]
  },
  {
   "cell_type": "markdown",
   "metadata": {},
   "source": [
    "### Points:\n",
    "* After Droping Null Values\n",
    "* The most Liked Dish in Bangalore is Pasta"
   ]
  },
  {
   "cell_type": "code",
   "execution_count": 246,
   "metadata": {},
   "outputs": [
    {
     "data": {
      "text/html": [
       "<div>\n",
       "<style scoped>\n",
       "    .dataframe tbody tr th:only-of-type {\n",
       "        vertical-align: middle;\n",
       "    }\n",
       "\n",
       "    .dataframe tbody tr th {\n",
       "        vertical-align: top;\n",
       "    }\n",
       "\n",
       "    .dataframe thead th {\n",
       "        text-align: right;\n",
       "    }\n",
       "</style>\n",
       "<table border=\"1\" class=\"dataframe\">\n",
       "  <thead>\n",
       "    <tr style=\"text-align: right;\">\n",
       "      <th></th>\n",
       "      <th>url</th>\n",
       "      <th>address</th>\n",
       "      <th>name</th>\n",
       "      <th>online_order</th>\n",
       "      <th>book_table</th>\n",
       "      <th>votes</th>\n",
       "      <th>phone</th>\n",
       "      <th>location</th>\n",
       "      <th>rest_type</th>\n",
       "      <th>dish_liked</th>\n",
       "      <th>cuisines</th>\n",
       "      <th>approx_cost(for two people)</th>\n",
       "      <th>reviews_list</th>\n",
       "      <th>menu_item</th>\n",
       "      <th>listed_in(type)</th>\n",
       "      <th>listed_in(city)</th>\n",
       "      <th>rates</th>\n",
       "    </tr>\n",
       "  </thead>\n",
       "  <tbody>\n",
       "    <tr>\n",
       "      <th>0</th>\n",
       "      <td>https://www.zomato.com/bangalore/al-swaad-take...</td>\n",
       "      <td>18, Masjid Street, Opp Akbari Masjid Neelasand...</td>\n",
       "      <td>Al Swaad Take Away</td>\n",
       "      <td>Yes</td>\n",
       "      <td>No</td>\n",
       "      <td>13</td>\n",
       "      <td>+91 7019942388\\n+91 9902335220</td>\n",
       "      <td>Richmond Road</td>\n",
       "      <td>Quick Bites</td>\n",
       "      <td>NaN</td>\n",
       "      <td>North Indian, South Indian, Arabian</td>\n",
       "      <td>350</td>\n",
       "      <td>[('Rated 1.0', 'RATED\\n  If U need reasonable ...</td>\n",
       "      <td>['Beef Seekh Kabab', 'Beef BBQ Chops', 'Beef M...</td>\n",
       "      <td>Delivery</td>\n",
       "      <td>Residency Road</td>\n",
       "      <td>3.1</td>\n",
       "    </tr>\n",
       "    <tr>\n",
       "      <th>1</th>\n",
       "      <td>https://www.zomato.com/bangalore/the-boozy-gri...</td>\n",
       "      <td>2nd Floor, 1st A Cross Road, Jyothi Nivas Coll...</td>\n",
       "      <td>The Boozy Griffin</td>\n",
       "      <td>No</td>\n",
       "      <td>Yes</td>\n",
       "      <td>5015</td>\n",
       "      <td>080 33512954</td>\n",
       "      <td>Koramangala 5th Block</td>\n",
       "      <td>Casual Dining, Pub</td>\n",
       "      <td>Cocktails, Craft Beer, Salads, Devils Chicken,...</td>\n",
       "      <td>European, Continental</td>\n",
       "      <td>1,800</td>\n",
       "      <td>[('Rated 5.0', 'RATED\\n  Really great ambience...</td>\n",
       "      <td>[]</td>\n",
       "      <td>Dine-out</td>\n",
       "      <td>Koramangala 6th Block</td>\n",
       "      <td>4.6</td>\n",
       "    </tr>\n",
       "    <tr>\n",
       "      <th>2</th>\n",
       "      <td>https://www.zomato.com/bangalore/barkat-btm-ba...</td>\n",
       "      <td>28th, 8th Cross, Maruthi Nagar, Madiwala, BTM,...</td>\n",
       "      <td>Barkat</td>\n",
       "      <td>No</td>\n",
       "      <td>No</td>\n",
       "      <td>6</td>\n",
       "      <td>+91 9019670836</td>\n",
       "      <td>BTM</td>\n",
       "      <td>Quick Bites</td>\n",
       "      <td>NaN</td>\n",
       "      <td>Kerala</td>\n",
       "      <td>250</td>\n",
       "      <td>[]</td>\n",
       "      <td>[]</td>\n",
       "      <td>Dine-out</td>\n",
       "      <td>Koramangala 4th Block</td>\n",
       "      <td>3.4</td>\n",
       "    </tr>\n",
       "    <tr>\n",
       "      <th>3</th>\n",
       "      <td>https://www.zomato.com/bangalore/sriracha-lave...</td>\n",
       "      <td>204, 2nd Level, 4th Floor, Comet Block, UB Cit...</td>\n",
       "      <td>Sriracha</td>\n",
       "      <td>No</td>\n",
       "      <td>No</td>\n",
       "      <td>699</td>\n",
       "      <td>+91 8041755366\\n+91 7022422473</td>\n",
       "      <td>Lavelle Road</td>\n",
       "      <td>Casual Dining</td>\n",
       "      <td>Noodles, Laksa, Cocktails, Dumplings, Sangria,...</td>\n",
       "      <td>Thai, Chinese, Indonesian, Asian, Momos</td>\n",
       "      <td>1,500</td>\n",
       "      <td>[('Rated 3.0', 'RATED\\n  Another restaurant in...</td>\n",
       "      <td>[]</td>\n",
       "      <td>Dine-out</td>\n",
       "      <td>Residency Road</td>\n",
       "      <td>4.3</td>\n",
       "    </tr>\n",
       "    <tr>\n",
       "      <th>4</th>\n",
       "      <td>https://www.zomato.com/bangalore/sri-ganesh-ju...</td>\n",
       "      <td>513, Opposite Ganesh Temple, Koramangala 8th B...</td>\n",
       "      <td>Sri Ganesh Juice Junction</td>\n",
       "      <td>Yes</td>\n",
       "      <td>No</td>\n",
       "      <td>129</td>\n",
       "      <td>+91 9845623889</td>\n",
       "      <td>Koramangala 8th Block</td>\n",
       "      <td>Beverage Shop</td>\n",
       "      <td>NaN</td>\n",
       "      <td>Juices, Fast Food</td>\n",
       "      <td>150</td>\n",
       "      <td>[('Rated 4.0', 'RATED\\n  Good cafe with most v...</td>\n",
       "      <td>['Dry Fruit Milkshake', 'Wheat Grass with Wate...</td>\n",
       "      <td>Delivery</td>\n",
       "      <td>Koramangala 6th Block</td>\n",
       "      <td>3.7</td>\n",
       "    </tr>\n",
       "  </tbody>\n",
       "</table>\n",
       "</div>"
      ],
      "text/plain": [
       "                                                 url  \\\n",
       "0  https://www.zomato.com/bangalore/al-swaad-take...   \n",
       "1  https://www.zomato.com/bangalore/the-boozy-gri...   \n",
       "2  https://www.zomato.com/bangalore/barkat-btm-ba...   \n",
       "3  https://www.zomato.com/bangalore/sriracha-lave...   \n",
       "4  https://www.zomato.com/bangalore/sri-ganesh-ju...   \n",
       "\n",
       "                                             address  \\\n",
       "0  18, Masjid Street, Opp Akbari Masjid Neelasand...   \n",
       "1  2nd Floor, 1st A Cross Road, Jyothi Nivas Coll...   \n",
       "2  28th, 8th Cross, Maruthi Nagar, Madiwala, BTM,...   \n",
       "3  204, 2nd Level, 4th Floor, Comet Block, UB Cit...   \n",
       "4  513, Opposite Ganesh Temple, Koramangala 8th B...   \n",
       "\n",
       "                        name online_order book_table  votes  \\\n",
       "0         Al Swaad Take Away          Yes         No     13   \n",
       "1          The Boozy Griffin           No        Yes   5015   \n",
       "2                     Barkat           No         No      6   \n",
       "3                   Sriracha           No         No    699   \n",
       "4  Sri Ganesh Juice Junction          Yes         No    129   \n",
       "\n",
       "                            phone               location           rest_type  \\\n",
       "0  +91 7019942388\\n+91 9902335220          Richmond Road         Quick Bites   \n",
       "1                    080 33512954  Koramangala 5th Block  Casual Dining, Pub   \n",
       "2                  +91 9019670836                    BTM         Quick Bites   \n",
       "3  +91 8041755366\\n+91 7022422473           Lavelle Road       Casual Dining   \n",
       "4                  +91 9845623889  Koramangala 8th Block       Beverage Shop   \n",
       "\n",
       "                                          dish_liked  \\\n",
       "0                                                NaN   \n",
       "1  Cocktails, Craft Beer, Salads, Devils Chicken,...   \n",
       "2                                                NaN   \n",
       "3  Noodles, Laksa, Cocktails, Dumplings, Sangria,...   \n",
       "4                                                NaN   \n",
       "\n",
       "                                  cuisines approx_cost(for two people)  \\\n",
       "0      North Indian, South Indian, Arabian                         350   \n",
       "1                    European, Continental                       1,800   \n",
       "2                                   Kerala                         250   \n",
       "3  Thai, Chinese, Indonesian, Asian, Momos                       1,500   \n",
       "4                        Juices, Fast Food                         150   \n",
       "\n",
       "                                        reviews_list  \\\n",
       "0  [('Rated 1.0', 'RATED\\n  If U need reasonable ...   \n",
       "1  [('Rated 5.0', 'RATED\\n  Really great ambience...   \n",
       "2                                                 []   \n",
       "3  [('Rated 3.0', 'RATED\\n  Another restaurant in...   \n",
       "4  [('Rated 4.0', 'RATED\\n  Good cafe with most v...   \n",
       "\n",
       "                                           menu_item listed_in(type)  \\\n",
       "0  ['Beef Seekh Kabab', 'Beef BBQ Chops', 'Beef M...        Delivery   \n",
       "1                                                 []        Dine-out   \n",
       "2                                                 []        Dine-out   \n",
       "3                                                 []        Dine-out   \n",
       "4  ['Dry Fruit Milkshake', 'Wheat Grass with Wate...        Delivery   \n",
       "\n",
       "         listed_in(city) rates  \n",
       "0         Residency Road  3.1   \n",
       "1  Koramangala 6th Block  4.6   \n",
       "2  Koramangala 4th Block  3.4   \n",
       "3         Residency Road  4.3   \n",
       "4  Koramangala 6th Block  3.7   "
      ]
     },
     "execution_count": 246,
     "metadata": {},
     "output_type": "execute_result"
    }
   ],
   "source": [
    "df.head()"
   ]
  },
  {
   "cell_type": "markdown",
   "metadata": {},
   "source": [
    "### MODEL:\n",
    "* Taking Linear Regression Model"
   ]
  },
  {
   "cell_type": "code",
   "execution_count": 180,
   "metadata": {},
   "outputs": [],
   "source": [
    "pd.get_dummies??"
   ]
  },
  {
   "cell_type": "code",
   "execution_count": 248,
   "metadata": {},
   "outputs": [],
   "source": [
    "# Converting categorical Values to 0 and 1\n",
    "\n",
    "df['online_order']= pd.get_dummies(df.online_order, drop_first=True)\n",
    "df['book_table']= pd.get_dummies(df.book_table, drop_first=True)"
   ]
  },
  {
   "cell_type": "code",
   "execution_count": 268,
   "metadata": {},
   "outputs": [
    {
     "data": {
      "text/html": [
       "<div>\n",
       "<style scoped>\n",
       "    .dataframe tbody tr th:only-of-type {\n",
       "        vertical-align: middle;\n",
       "    }\n",
       "\n",
       "    .dataframe tbody tr th {\n",
       "        vertical-align: top;\n",
       "    }\n",
       "\n",
       "    .dataframe thead th {\n",
       "        text-align: right;\n",
       "    }\n",
       "</style>\n",
       "<table border=\"1\" class=\"dataframe\">\n",
       "  <thead>\n",
       "    <tr style=\"text-align: right;\">\n",
       "      <th></th>\n",
       "      <th>url</th>\n",
       "      <th>address</th>\n",
       "      <th>name</th>\n",
       "      <th>online_order</th>\n",
       "      <th>book_table</th>\n",
       "      <th>votes</th>\n",
       "      <th>phone</th>\n",
       "      <th>location</th>\n",
       "      <th>rest_type</th>\n",
       "      <th>dish_liked</th>\n",
       "      <th>cuisines</th>\n",
       "      <th>approx_cost(for two people)</th>\n",
       "      <th>reviews_list</th>\n",
       "      <th>menu_item</th>\n",
       "      <th>listed_in(type)</th>\n",
       "      <th>listed_in(city)</th>\n",
       "      <th>rates</th>\n",
       "    </tr>\n",
       "  </thead>\n",
       "  <tbody>\n",
       "    <tr>\n",
       "      <th>0</th>\n",
       "      <td>https://www.zomato.com/bangalore/al-swaad-take...</td>\n",
       "      <td>18, Masjid Street, Opp Akbari Masjid Neelasand...</td>\n",
       "      <td>Al Swaad Take Away</td>\n",
       "      <td>1</td>\n",
       "      <td>0</td>\n",
       "      <td>13</td>\n",
       "      <td>+91 7019942388\\n+91 9902335220</td>\n",
       "      <td>Richmond Road</td>\n",
       "      <td>Quick Bites</td>\n",
       "      <td>NaN</td>\n",
       "      <td>North Indian, South Indian, Arabian</td>\n",
       "      <td>350</td>\n",
       "      <td>[('Rated 1.0', 'RATED\\n  If U need reasonable ...</td>\n",
       "      <td>['Beef Seekh Kabab', 'Beef BBQ Chops', 'Beef M...</td>\n",
       "      <td>Delivery</td>\n",
       "      <td>Residency Road</td>\n",
       "      <td>3.1</td>\n",
       "    </tr>\n",
       "    <tr>\n",
       "      <th>1</th>\n",
       "      <td>https://www.zomato.com/bangalore/the-boozy-gri...</td>\n",
       "      <td>2nd Floor, 1st A Cross Road, Jyothi Nivas Coll...</td>\n",
       "      <td>The Boozy Griffin</td>\n",
       "      <td>0</td>\n",
       "      <td>1</td>\n",
       "      <td>5015</td>\n",
       "      <td>080 33512954</td>\n",
       "      <td>Koramangala 5th Block</td>\n",
       "      <td>Casual Dining, Pub</td>\n",
       "      <td>Cocktails, Craft Beer, Salads, Devils Chicken,...</td>\n",
       "      <td>European, Continental</td>\n",
       "      <td>1,800</td>\n",
       "      <td>[('Rated 5.0', 'RATED\\n  Really great ambience...</td>\n",
       "      <td>[]</td>\n",
       "      <td>Dine-out</td>\n",
       "      <td>Koramangala 6th Block</td>\n",
       "      <td>4.6</td>\n",
       "    </tr>\n",
       "    <tr>\n",
       "      <th>2</th>\n",
       "      <td>https://www.zomato.com/bangalore/barkat-btm-ba...</td>\n",
       "      <td>28th, 8th Cross, Maruthi Nagar, Madiwala, BTM,...</td>\n",
       "      <td>Barkat</td>\n",
       "      <td>0</td>\n",
       "      <td>0</td>\n",
       "      <td>6</td>\n",
       "      <td>+91 9019670836</td>\n",
       "      <td>BTM</td>\n",
       "      <td>Quick Bites</td>\n",
       "      <td>NaN</td>\n",
       "      <td>Kerala</td>\n",
       "      <td>250</td>\n",
       "      <td>[]</td>\n",
       "      <td>[]</td>\n",
       "      <td>Dine-out</td>\n",
       "      <td>Koramangala 4th Block</td>\n",
       "      <td>3.4</td>\n",
       "    </tr>\n",
       "    <tr>\n",
       "      <th>3</th>\n",
       "      <td>https://www.zomato.com/bangalore/sriracha-lave...</td>\n",
       "      <td>204, 2nd Level, 4th Floor, Comet Block, UB Cit...</td>\n",
       "      <td>Sriracha</td>\n",
       "      <td>0</td>\n",
       "      <td>0</td>\n",
       "      <td>699</td>\n",
       "      <td>+91 8041755366\\n+91 7022422473</td>\n",
       "      <td>Lavelle Road</td>\n",
       "      <td>Casual Dining</td>\n",
       "      <td>Noodles, Laksa, Cocktails, Dumplings, Sangria,...</td>\n",
       "      <td>Thai, Chinese, Indonesian, Asian, Momos</td>\n",
       "      <td>1,500</td>\n",
       "      <td>[('Rated 3.0', 'RATED\\n  Another restaurant in...</td>\n",
       "      <td>[]</td>\n",
       "      <td>Dine-out</td>\n",
       "      <td>Residency Road</td>\n",
       "      <td>4.3</td>\n",
       "    </tr>\n",
       "    <tr>\n",
       "      <th>4</th>\n",
       "      <td>https://www.zomato.com/bangalore/sri-ganesh-ju...</td>\n",
       "      <td>513, Opposite Ganesh Temple, Koramangala 8th B...</td>\n",
       "      <td>Sri Ganesh Juice Junction</td>\n",
       "      <td>1</td>\n",
       "      <td>0</td>\n",
       "      <td>129</td>\n",
       "      <td>+91 9845623889</td>\n",
       "      <td>Koramangala 8th Block</td>\n",
       "      <td>Beverage Shop</td>\n",
       "      <td>NaN</td>\n",
       "      <td>Juices, Fast Food</td>\n",
       "      <td>150</td>\n",
       "      <td>[('Rated 4.0', 'RATED\\n  Good cafe with most v...</td>\n",
       "      <td>['Dry Fruit Milkshake', 'Wheat Grass with Wate...</td>\n",
       "      <td>Delivery</td>\n",
       "      <td>Koramangala 6th Block</td>\n",
       "      <td>3.7</td>\n",
       "    </tr>\n",
       "  </tbody>\n",
       "</table>\n",
       "</div>"
      ],
      "text/plain": [
       "                                                 url  \\\n",
       "0  https://www.zomato.com/bangalore/al-swaad-take...   \n",
       "1  https://www.zomato.com/bangalore/the-boozy-gri...   \n",
       "2  https://www.zomato.com/bangalore/barkat-btm-ba...   \n",
       "3  https://www.zomato.com/bangalore/sriracha-lave...   \n",
       "4  https://www.zomato.com/bangalore/sri-ganesh-ju...   \n",
       "\n",
       "                                             address  \\\n",
       "0  18, Masjid Street, Opp Akbari Masjid Neelasand...   \n",
       "1  2nd Floor, 1st A Cross Road, Jyothi Nivas Coll...   \n",
       "2  28th, 8th Cross, Maruthi Nagar, Madiwala, BTM,...   \n",
       "3  204, 2nd Level, 4th Floor, Comet Block, UB Cit...   \n",
       "4  513, Opposite Ganesh Temple, Koramangala 8th B...   \n",
       "\n",
       "                        name  online_order  book_table  votes  \\\n",
       "0         Al Swaad Take Away             1           0     13   \n",
       "1          The Boozy Griffin             0           1   5015   \n",
       "2                     Barkat             0           0      6   \n",
       "3                   Sriracha             0           0    699   \n",
       "4  Sri Ganesh Juice Junction             1           0    129   \n",
       "\n",
       "                            phone               location           rest_type  \\\n",
       "0  +91 7019942388\\n+91 9902335220          Richmond Road         Quick Bites   \n",
       "1                    080 33512954  Koramangala 5th Block  Casual Dining, Pub   \n",
       "2                  +91 9019670836                    BTM         Quick Bites   \n",
       "3  +91 8041755366\\n+91 7022422473           Lavelle Road       Casual Dining   \n",
       "4                  +91 9845623889  Koramangala 8th Block       Beverage Shop   \n",
       "\n",
       "                                          dish_liked  \\\n",
       "0                                                NaN   \n",
       "1  Cocktails, Craft Beer, Salads, Devils Chicken,...   \n",
       "2                                                NaN   \n",
       "3  Noodles, Laksa, Cocktails, Dumplings, Sangria,...   \n",
       "4                                                NaN   \n",
       "\n",
       "                                  cuisines approx_cost(for two people)  \\\n",
       "0      North Indian, South Indian, Arabian                         350   \n",
       "1                    European, Continental                       1,800   \n",
       "2                                   Kerala                         250   \n",
       "3  Thai, Chinese, Indonesian, Asian, Momos                       1,500   \n",
       "4                        Juices, Fast Food                         150   \n",
       "\n",
       "                                        reviews_list  \\\n",
       "0  [('Rated 1.0', 'RATED\\n  If U need reasonable ...   \n",
       "1  [('Rated 5.0', 'RATED\\n  Really great ambience...   \n",
       "2                                                 []   \n",
       "3  [('Rated 3.0', 'RATED\\n  Another restaurant in...   \n",
       "4  [('Rated 4.0', 'RATED\\n  Good cafe with most v...   \n",
       "\n",
       "                                           menu_item listed_in(type)  \\\n",
       "0  ['Beef Seekh Kabab', 'Beef BBQ Chops', 'Beef M...        Delivery   \n",
       "1                                                 []        Dine-out   \n",
       "2                                                 []        Dine-out   \n",
       "3                                                 []        Dine-out   \n",
       "4  ['Dry Fruit Milkshake', 'Wheat Grass with Wate...        Delivery   \n",
       "\n",
       "         listed_in(city) rates  \n",
       "0         Residency Road  3.1   \n",
       "1  Koramangala 6th Block  4.6   \n",
       "2  Koramangala 4th Block  3.4   \n",
       "3         Residency Road  4.3   \n",
       "4  Koramangala 6th Block  3.7   "
      ]
     },
     "execution_count": 268,
     "metadata": {},
     "output_type": "execute_result"
    }
   ],
   "source": [
    "df.head()"
   ]
  },
  {
   "cell_type": "code",
   "execution_count": 249,
   "metadata": {},
   "outputs": [],
   "source": [
    "# Taking some columns from Main DataFrame\n",
    "df5 = df[['online_order', 'book_table','votes','rates','approx_cost(for two people)']]"
   ]
  },
  {
   "cell_type": "code",
   "execution_count": 250,
   "metadata": {},
   "outputs": [
    {
     "data": {
      "text/html": [
       "<div>\n",
       "<style scoped>\n",
       "    .dataframe tbody tr th:only-of-type {\n",
       "        vertical-align: middle;\n",
       "    }\n",
       "\n",
       "    .dataframe tbody tr th {\n",
       "        vertical-align: top;\n",
       "    }\n",
       "\n",
       "    .dataframe thead th {\n",
       "        text-align: right;\n",
       "    }\n",
       "</style>\n",
       "<table border=\"1\" class=\"dataframe\">\n",
       "  <thead>\n",
       "    <tr style=\"text-align: right;\">\n",
       "      <th></th>\n",
       "      <th>online_order</th>\n",
       "      <th>book_table</th>\n",
       "      <th>votes</th>\n",
       "      <th>rates</th>\n",
       "      <th>approx_cost(for two people)</th>\n",
       "    </tr>\n",
       "  </thead>\n",
       "  <tbody>\n",
       "    <tr>\n",
       "      <th>41368</th>\n",
       "      <td>0</td>\n",
       "      <td>0</td>\n",
       "      <td>2332</td>\n",
       "      <td>3.8</td>\n",
       "      <td>700</td>\n",
       "    </tr>\n",
       "    <tr>\n",
       "      <th>41369</th>\n",
       "      <td>1</td>\n",
       "      <td>0</td>\n",
       "      <td>0</td>\n",
       "      <td>NaN</td>\n",
       "      <td>500</td>\n",
       "    </tr>\n",
       "    <tr>\n",
       "      <th>41370</th>\n",
       "      <td>1</td>\n",
       "      <td>1</td>\n",
       "      <td>45</td>\n",
       "      <td>3.5</td>\n",
       "      <td>1,200</td>\n",
       "    </tr>\n",
       "    <tr>\n",
       "      <th>41371</th>\n",
       "      <td>0</td>\n",
       "      <td>0</td>\n",
       "      <td>7</td>\n",
       "      <td>3.3</td>\n",
       "      <td>200</td>\n",
       "    </tr>\n",
       "    <tr>\n",
       "      <th>41372</th>\n",
       "      <td>1</td>\n",
       "      <td>0</td>\n",
       "      <td>0</td>\n",
       "      <td>NaN</td>\n",
       "      <td>200</td>\n",
       "    </tr>\n",
       "  </tbody>\n",
       "</table>\n",
       "</div>"
      ],
      "text/plain": [
       "       online_order  book_table  votes rates approx_cost(for two people)\n",
       "41368             0           0   2332  3.8                          700\n",
       "41369             1           0      0   NaN                         500\n",
       "41370             1           1     45  3.5                        1,200\n",
       "41371             0           0      7  3.3                          200\n",
       "41372             1           0      0   NaN                         200"
      ]
     },
     "execution_count": 250,
     "metadata": {},
     "output_type": "execute_result"
    }
   ],
   "source": [
    "df5.tail()"
   ]
  },
  {
   "cell_type": "code",
   "execution_count": 251,
   "metadata": {},
   "outputs": [],
   "source": [
    "df5 = df5.dropna() # droping NaN rows"
   ]
  },
  {
   "cell_type": "code",
   "execution_count": 252,
   "metadata": {},
   "outputs": [
    {
     "data": {
      "text/html": [
       "<div>\n",
       "<style scoped>\n",
       "    .dataframe tbody tr th:only-of-type {\n",
       "        vertical-align: middle;\n",
       "    }\n",
       "\n",
       "    .dataframe tbody tr th {\n",
       "        vertical-align: top;\n",
       "    }\n",
       "\n",
       "    .dataframe thead th {\n",
       "        text-align: right;\n",
       "    }\n",
       "</style>\n",
       "<table border=\"1\" class=\"dataframe\">\n",
       "  <thead>\n",
       "    <tr style=\"text-align: right;\">\n",
       "      <th></th>\n",
       "      <th>online_order</th>\n",
       "      <th>book_table</th>\n",
       "      <th>votes</th>\n",
       "      <th>rates</th>\n",
       "      <th>approx_cost(for two people)</th>\n",
       "    </tr>\n",
       "  </thead>\n",
       "  <tbody>\n",
       "    <tr>\n",
       "      <th>41365</th>\n",
       "      <td>1</td>\n",
       "      <td>1</td>\n",
       "      <td>20</td>\n",
       "      <td>3.7</td>\n",
       "      <td>700</td>\n",
       "    </tr>\n",
       "    <tr>\n",
       "      <th>41367</th>\n",
       "      <td>1</td>\n",
       "      <td>0</td>\n",
       "      <td>4</td>\n",
       "      <td>3.2</td>\n",
       "      <td>300</td>\n",
       "    </tr>\n",
       "    <tr>\n",
       "      <th>41368</th>\n",
       "      <td>0</td>\n",
       "      <td>0</td>\n",
       "      <td>2332</td>\n",
       "      <td>3.8</td>\n",
       "      <td>700</td>\n",
       "    </tr>\n",
       "    <tr>\n",
       "      <th>41370</th>\n",
       "      <td>1</td>\n",
       "      <td>1</td>\n",
       "      <td>45</td>\n",
       "      <td>3.5</td>\n",
       "      <td>1,200</td>\n",
       "    </tr>\n",
       "    <tr>\n",
       "      <th>41371</th>\n",
       "      <td>0</td>\n",
       "      <td>0</td>\n",
       "      <td>7</td>\n",
       "      <td>3.3</td>\n",
       "      <td>200</td>\n",
       "    </tr>\n",
       "  </tbody>\n",
       "</table>\n",
       "</div>"
      ],
      "text/plain": [
       "       online_order  book_table  votes rates approx_cost(for two people)\n",
       "41365             1           1     20   3.7                         700\n",
       "41367             1           0      4  3.2                          300\n",
       "41368             0           0   2332  3.8                          700\n",
       "41370             1           1     45  3.5                        1,200\n",
       "41371             0           0      7  3.3                          200"
      ]
     },
     "execution_count": 252,
     "metadata": {},
     "output_type": "execute_result"
    }
   ],
   "source": [
    "df5.tail()"
   ]
  },
  {
   "cell_type": "code",
   "execution_count": 253,
   "metadata": {},
   "outputs": [
    {
     "name": "stdout",
     "output_type": "stream",
     "text": [
      "<class 'pandas.core.frame.DataFrame'>\n",
      "Int64Index: 33189 entries, 0 to 41371\n",
      "Data columns (total 5 columns):\n",
      "online_order                   33189 non-null uint8\n",
      "book_table                     33189 non-null uint8\n",
      "votes                          33189 non-null int64\n",
      "rates                          33189 non-null object\n",
      "approx_cost(for two people)    33189 non-null object\n",
      "dtypes: int64(1), object(2), uint8(2)\n",
      "memory usage: 1.1+ MB\n"
     ]
    }
   ],
   "source": [
    "df5.info()\n",
    "# Analysing their types "
   ]
  },
  {
   "cell_type": "code",
   "execution_count": 254,
   "metadata": {},
   "outputs": [],
   "source": [
    "# Converting to float type\n",
    "df5['rates'] = df5['rates'].replace('-',0).astype('float')\n"
   ]
  },
  {
   "cell_type": "code",
   "execution_count": 255,
   "metadata": {},
   "outputs": [],
   "source": [
    "# converting to float type\n",
    "df5['approx_cost(for two people)'] = df5['approx_cost(for two people)'].str.replace(',','')\n",
    "\n",
    "df5['approx_cost(for two people)'] = df5['approx_cost(for two people)'].astype('float') "
   ]
  },
  {
   "cell_type": "code",
   "execution_count": 256,
   "metadata": {},
   "outputs": [
    {
     "data": {
      "text/html": [
       "<div>\n",
       "<style scoped>\n",
       "    .dataframe tbody tr th:only-of-type {\n",
       "        vertical-align: middle;\n",
       "    }\n",
       "\n",
       "    .dataframe tbody tr th {\n",
       "        vertical-align: top;\n",
       "    }\n",
       "\n",
       "    .dataframe thead th {\n",
       "        text-align: right;\n",
       "    }\n",
       "</style>\n",
       "<table border=\"1\" class=\"dataframe\">\n",
       "  <thead>\n",
       "    <tr style=\"text-align: right;\">\n",
       "      <th></th>\n",
       "      <th>online_order</th>\n",
       "      <th>book_table</th>\n",
       "      <th>votes</th>\n",
       "      <th>rates</th>\n",
       "      <th>approx_cost(for two people)</th>\n",
       "    </tr>\n",
       "  </thead>\n",
       "  <tbody>\n",
       "    <tr>\n",
       "      <th>0</th>\n",
       "      <td>1</td>\n",
       "      <td>0</td>\n",
       "      <td>13</td>\n",
       "      <td>3.1</td>\n",
       "      <td>350.0</td>\n",
       "    </tr>\n",
       "    <tr>\n",
       "      <th>1</th>\n",
       "      <td>0</td>\n",
       "      <td>1</td>\n",
       "      <td>5015</td>\n",
       "      <td>4.6</td>\n",
       "      <td>1800.0</td>\n",
       "    </tr>\n",
       "    <tr>\n",
       "      <th>2</th>\n",
       "      <td>0</td>\n",
       "      <td>0</td>\n",
       "      <td>6</td>\n",
       "      <td>3.4</td>\n",
       "      <td>250.0</td>\n",
       "    </tr>\n",
       "    <tr>\n",
       "      <th>3</th>\n",
       "      <td>0</td>\n",
       "      <td>0</td>\n",
       "      <td>699</td>\n",
       "      <td>4.3</td>\n",
       "      <td>1500.0</td>\n",
       "    </tr>\n",
       "    <tr>\n",
       "      <th>4</th>\n",
       "      <td>1</td>\n",
       "      <td>0</td>\n",
       "      <td>129</td>\n",
       "      <td>3.7</td>\n",
       "      <td>150.0</td>\n",
       "    </tr>\n",
       "  </tbody>\n",
       "</table>\n",
       "</div>"
      ],
      "text/plain": [
       "   online_order  book_table  votes  rates  approx_cost(for two people)\n",
       "0             1           0     13    3.1                        350.0\n",
       "1             0           1   5015    4.6                       1800.0\n",
       "2             0           0      6    3.4                        250.0\n",
       "3             0           0    699    4.3                       1500.0\n",
       "4             1           0    129    3.7                        150.0"
      ]
     },
     "execution_count": 256,
     "metadata": {},
     "output_type": "execute_result"
    }
   ],
   "source": [
    "df5.head()"
   ]
  },
  {
   "cell_type": "code",
   "execution_count": 257,
   "metadata": {},
   "outputs": [
    {
     "name": "stdout",
     "output_type": "stream",
     "text": [
      "<class 'pandas.core.frame.DataFrame'>\n",
      "Int64Index: 33189 entries, 0 to 41371\n",
      "Data columns (total 5 columns):\n",
      "online_order                   33189 non-null uint8\n",
      "book_table                     33189 non-null uint8\n",
      "votes                          33189 non-null int64\n",
      "rates                          33189 non-null float64\n",
      "approx_cost(for two people)    33189 non-null float64\n",
      "dtypes: float64(2), int64(1), uint8(2)\n",
      "memory usage: 1.1 MB\n"
     ]
    }
   ],
   "source": [
    "df5.info() # checking weather they are converted or not"
   ]
  },
  {
   "cell_type": "code",
   "execution_count": 258,
   "metadata": {},
   "outputs": [],
   "source": [
    "y = df5['rates'] # taking final one as class label"
   ]
  },
  {
   "cell_type": "code",
   "execution_count": 260,
   "metadata": {},
   "outputs": [],
   "source": [
    "x= df5.drop('rates', axis= 1) # removing class label"
   ]
  },
  {
   "cell_type": "code",
   "execution_count": 261,
   "metadata": {},
   "outputs": [
    {
     "data": {
      "text/html": [
       "<div>\n",
       "<style scoped>\n",
       "    .dataframe tbody tr th:only-of-type {\n",
       "        vertical-align: middle;\n",
       "    }\n",
       "\n",
       "    .dataframe tbody tr th {\n",
       "        vertical-align: top;\n",
       "    }\n",
       "\n",
       "    .dataframe thead th {\n",
       "        text-align: right;\n",
       "    }\n",
       "</style>\n",
       "<table border=\"1\" class=\"dataframe\">\n",
       "  <thead>\n",
       "    <tr style=\"text-align: right;\">\n",
       "      <th></th>\n",
       "      <th>online_order</th>\n",
       "      <th>book_table</th>\n",
       "      <th>votes</th>\n",
       "      <th>approx_cost(for two people)</th>\n",
       "    </tr>\n",
       "  </thead>\n",
       "  <tbody>\n",
       "    <tr>\n",
       "      <th>0</th>\n",
       "      <td>1</td>\n",
       "      <td>0</td>\n",
       "      <td>13</td>\n",
       "      <td>350.0</td>\n",
       "    </tr>\n",
       "    <tr>\n",
       "      <th>1</th>\n",
       "      <td>0</td>\n",
       "      <td>1</td>\n",
       "      <td>5015</td>\n",
       "      <td>1800.0</td>\n",
       "    </tr>\n",
       "    <tr>\n",
       "      <th>2</th>\n",
       "      <td>0</td>\n",
       "      <td>0</td>\n",
       "      <td>6</td>\n",
       "      <td>250.0</td>\n",
       "    </tr>\n",
       "    <tr>\n",
       "      <th>3</th>\n",
       "      <td>0</td>\n",
       "      <td>0</td>\n",
       "      <td>699</td>\n",
       "      <td>1500.0</td>\n",
       "    </tr>\n",
       "    <tr>\n",
       "      <th>4</th>\n",
       "      <td>1</td>\n",
       "      <td>0</td>\n",
       "      <td>129</td>\n",
       "      <td>150.0</td>\n",
       "    </tr>\n",
       "  </tbody>\n",
       "</table>\n",
       "</div>"
      ],
      "text/plain": [
       "   online_order  book_table  votes  approx_cost(for two people)\n",
       "0             1           0     13                        350.0\n",
       "1             0           1   5015                       1800.0\n",
       "2             0           0      6                        250.0\n",
       "3             0           0    699                       1500.0\n",
       "4             1           0    129                        150.0"
      ]
     },
     "execution_count": 261,
     "metadata": {},
     "output_type": "execute_result"
    }
   ],
   "source": [
    "x.head()"
   ]
  },
  {
   "cell_type": "code",
   "execution_count": 262,
   "metadata": {},
   "outputs": [
    {
     "data": {
      "text/plain": [
       "0    3.1\n",
       "1    4.6\n",
       "2    3.4\n",
       "3    4.3\n",
       "4    3.7\n",
       "Name: rates, dtype: float64"
      ]
     },
     "execution_count": 262,
     "metadata": {},
     "output_type": "execute_result"
    }
   ],
   "source": [
    "y.head()"
   ]
  },
  {
   "cell_type": "code",
   "execution_count": 264,
   "metadata": {},
   "outputs": [],
   "source": [
    "\n",
    "\n",
    "train_test_split??"
   ]
  },
  {
   "cell_type": "code",
   "execution_count": 265,
   "metadata": {},
   "outputs": [],
   "source": [
    "# Splitting data \n",
    "\n",
    "from sklearn.model_selection import train_test_split\n",
    "x_train,x_test,y_train,y_test = train_test_split(x,y,random_state = 30)"
   ]
  },
  {
   "cell_type": "code",
   "execution_count": 266,
   "metadata": {},
   "outputs": [],
   "source": [
    "# Taking Linear Regression Model\n",
    "\n",
    "from sklearn.linear_model import LinearRegression\n",
    "lr_model = LinearRegression()\n",
    "lr_model.fit(x_train,y_train)\n",
    "pred_lr = lr_model.predict(x_test)"
   ]
  },
  {
   "cell_type": "code",
   "execution_count": null,
   "metadata": {},
   "outputs": [],
   "source": []
  },
  {
   "cell_type": "code",
   "execution_count": null,
   "metadata": {},
   "outputs": [],
   "source": []
  },
  {
   "cell_type": "code",
   "execution_count": null,
   "metadata": {},
   "outputs": [],
   "source": []
  },
  {
   "cell_type": "code",
   "execution_count": null,
   "metadata": {},
   "outputs": [],
   "source": []
  }
 ],
 "metadata": {
  "kernelspec": {
   "display_name": "Python 3",
   "language": "python",
   "name": "python3"
  },
  "language_info": {
   "codemirror_mode": {
    "name": "ipython",
    "version": 3
   },
   "file_extension": ".py",
   "mimetype": "text/x-python",
   "name": "python",
   "nbconvert_exporter": "python",
   "pygments_lexer": "ipython3",
   "version": "3.7.6"
  }
 },
 "nbformat": 4,
 "nbformat_minor": 2
}
